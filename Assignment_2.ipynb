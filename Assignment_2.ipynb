{
  "nbformat": 4,
  "nbformat_minor": 0,
  "metadata": {
    "colab": {
      "name": "Assignment-2.ipynb",
      "provenance": []
    },
    "kernelspec": {
      "name": "python3",
      "display_name": "Python 3"
    }
  },
  "cells": [
    {
      "cell_type": "markdown",
      "metadata": {
        "id": "buIcHhZLjdYQ",
        "colab_type": "text"
      },
      "source": [
        "Write a Python Program to implement your own myreduce() function which works exactly like \n",
        "Python's built-in function reduce()"
      ]
    },
    {
      "cell_type": "code",
      "metadata": {
        "id": "VRDES98Djy7-",
        "colab_type": "code",
        "outputId": "932dba14-e1b4-4c7b-f7d5-b384f1ff1404",
        "colab": {
          "base_uri": "https://localhost:8080/",
          "height": 34
        }
      },
      "source": [
        "\n",
        "def myreduce(fun,lst):\n",
        "  while(len(lst)>1):\n",
        "    lst=[fun(lst[0],lst[1])]+lst[2:]\n",
        "  return lst\n",
        "\n",
        "lst=[i for i in range(1,6)]\n",
        "a = myreduce(lambda a,b:a+b,lst)\n",
        "a"
      ],
      "execution_count": 108,
      "outputs": [
        {
          "output_type": "execute_result",
          "data": {
            "text/plain": [
              "[15]"
            ]
          },
          "metadata": {
            "tags": []
          },
          "execution_count": 108
        }
      ]
    },
    {
      "cell_type": "markdown",
      "metadata": {
        "id": "A91uw_5Smmv7",
        "colab_type": "text"
      },
      "source": [
        "Write a Python program to implement your own myfilter() function which works exactly like Python's built-in function filter()"
      ]
    },
    {
      "cell_type": "code",
      "metadata": {
        "id": "au1sR-ADmuzo",
        "colab_type": "code",
        "colab": {
          "base_uri": "https://localhost:8080/",
          "height": 34
        },
        "outputId": "1958be39-26c1-447f-a6d6-4601ef5909c4"
      },
      "source": [
        "def myfilter(fun,lst):\n",
        "  output = []\n",
        "  for i in lst:\n",
        "    if(fun(i)==True):\n",
        "      output.append(i)\n",
        "  return(output)\n",
        "\n",
        "lst=[i for i in range(1,20)]\n",
        "a = myfilter(lambda x:x%2 == 0,lst)\n",
        "a"
      ],
      "execution_count": 23,
      "outputs": [
        {
          "output_type": "execute_result",
          "data": {
            "text/plain": [
              "[2, 4, 6, 8, 10, 12, 14, 16, 18]"
            ]
          },
          "metadata": {
            "tags": []
          },
          "execution_count": 23
        }
      ]
    },
    {
      "cell_type": "markdown",
      "metadata": {
        "id": "yqO8MNBAon0e",
        "colab_type": "text"
      },
      "source": [
        "2.\n",
        "\n",
        "Implement List comprehensions to produce the following lists.\n",
        "Write List comprehensions to produce the following Lists\n",
        "\n",
        "['A', 'C', 'A', 'D', 'G', 'I', ’L’, ‘ D’]\n",
        "\n",
        "['x', 'xx', 'xxx', 'xxxx', 'y', 'yy', 'yyy', 'yyyy', 'z', 'zz', 'zzz', 'zzzz']\n",
        "\n",
        "['x', 'y', 'z', 'xx', 'yy', 'zz', 'xx', 'yy', 'zz', 'xxxx', 'yyyy', 'zzzz']\n",
        "\n",
        "[[2], [3], [4], [3], [4], [5], [4], [5], [6]]\n",
        "\n",
        "[[2, 3, 4, 5], [3, 4, 5, 6], [4, 5, 6, 7], [5, 6, 7, 8]]\n",
        "\n",
        "[(1, 1), (2, 1), (3, 1), (1, 2), (2, 2), (3, 2), (1, 3), (2, 3), (3, 3)]\n"
      ]
    },
    {
      "cell_type": "code",
      "metadata": {
        "id": "qHgqAQZuo2vo",
        "colab_type": "code",
        "colab": {
          "base_uri": "https://localhost:8080/",
          "height": 119
        },
        "outputId": "2112a05f-d271-42fc-9f58-89b68c503b3c"
      },
      "source": [
        "output=[i for i in \"ACADGILD\"]\n",
        "print(output)\n",
        "output=[i*num for i in ['x','y','z'] for num in range(1,5)]\n",
        "print(output)\n",
        "output=[i*num for num in [1,2,4] for i in ['x','y','z']]\n",
        "print(output)\n",
        "output=[[x+y] for x in range(1,4) for y in range(1,4)]\n",
        "print(output)\n",
        "output=[[x+y for x in range(1,5)] for y in range(1,5)]\n",
        "print(output)\n",
        "output=[(x,y) for y in range(1,4) for x in range(1,4)]\n",
        "print(output)"
      ],
      "execution_count": 77,
      "outputs": [
        {
          "output_type": "stream",
          "text": [
            "['A', 'C', 'A', 'D', 'G', 'I', 'L', 'D']\n",
            "['x', 'xx', 'xxx', 'xxxx', 'y', 'yy', 'yyy', 'yyyy', 'z', 'zz', 'zzz', 'zzzz']\n",
            "['x', 'y', 'z', 'xx', 'yy', 'zz', 'xxxx', 'yyyy', 'zzzz']\n",
            "[[2], [3], [4], [3], [4], [5], [4], [5], [6]]\n",
            "[[2, 3, 4, 5], [3, 4, 5, 6], [4, 5, 6, 7], [5, 6, 7, 8]]\n",
            "[(1, 1), (2, 1), (3, 1), (1, 2), (2, 2), (3, 2), (1, 3), (2, 3), (3, 3)]\n"
          ],
          "name": "stdout"
        }
      ]
    },
    {
      "cell_type": "markdown",
      "metadata": {
        "id": "ThFmNrFIpHu-",
        "colab_type": "text"
      },
      "source": [
        "3.\n",
        "\n",
        "Implement a function longestWord() that takes a list of words and returns the longest one."
      ]
    },
    {
      "cell_type": "code",
      "metadata": {
        "id": "WZruxdL3Rgz3",
        "colab_type": "code",
        "outputId": "75f43719-77b2-4b53-c52f-c1d3cf8ef0e7",
        "colab": {
          "base_uri": "https://localhost:8080/",
          "height": 34
        }
      },
      "source": [
        "def longestword(word_list):\n",
        "  length = len(word_list[0])\n",
        "  longest_word = word_list[0]\n",
        "  for word in word_list:\n",
        "    if(len(word) > length):\n",
        "      length = len(word)\n",
        "      longest_word = word\n",
        "    \n",
        "  return(longest_word)\n",
        "\n",
        "wrds= ['python','java','excel']\n",
        "longestword(wrds)\n"
      ],
      "execution_count": 26,
      "outputs": [
        {
          "output_type": "execute_result",
          "data": {
            "text/plain": [
              "'python'"
            ]
          },
          "metadata": {
            "tags": []
          },
          "execution_count": 26
        }
      ]
    },
    {
      "cell_type": "markdown",
      "metadata": {
        "id": "JZvuFZtaqe5g",
        "colab_type": "text"
      },
      "source": [
        "1.1\n",
        "\n",
        "Write a Python Program(with class concepts) to find the area of the triangle using the below formula.\n",
        "\n",
        "area = (s*(s-a)*(s-b)*(s-c)) ** 0.5\n",
        "\n",
        "Function to take the length of the sides of triangle from user should be defined in the parentclass and function to calculate the area should be defined in subclass."
      ]
    },
    {
      "cell_type": "code",
      "metadata": {
        "id": "NRXf0w_Eqk3M",
        "colab_type": "code",
        "colab": {
          "base_uri": "https://localhost:8080/",
          "height": 136
        },
        "outputId": "21ced59e-ce0f-4b60-f5a9-525de14c85a1"
      },
      "source": [
        "class triangle:\n",
        "  def __init__(self):\n",
        "    self.side1=int(input(\"enter the first side \\n\"))\n",
        "    self.side2=int(input(\"enter the second side \\n\"))\n",
        "    self.side3=int(input(\"enter the third side \\n\"))\n",
        "  \n",
        "  def area(self):\n",
        "    s=(self.side1+self.side2+self.side3)/2\n",
        "    tri_area=(s*(s-self.side1)*(s-self.side2)*(s-self.side3))**0.5\n",
        "    return tri_area\n",
        "\n",
        "tri=triangle()\n",
        "print(\"Area of triangle is %d\" % tri.area())"
      ],
      "execution_count": 113,
      "outputs": [
        {
          "output_type": "stream",
          "text": [
            "enter the first side \n",
            "20\n",
            "enter the second side \n",
            "30\n",
            "enter the third side \n",
            "18\n",
            "Area of triangle is 174\n"
          ],
          "name": "stdout"
        }
      ]
    },
    {
      "cell_type": "markdown",
      "metadata": {
        "id": "ATL7mFypvXQV",
        "colab_type": "text"
      },
      "source": [
        "1.2\n",
        "\n",
        "Write a function filter_long_words() that takes a list of words and an integer n and returns the listof words that are longer than n."
      ]
    },
    {
      "cell_type": "code",
      "metadata": {
        "id": "6ZETl_R9vhN9",
        "colab_type": "code",
        "colab": {
          "base_uri": "https://localhost:8080/",
          "height": 34
        },
        "outputId": "1c17b93a-9699-40be-db95-8ea819c6b916"
      },
      "source": [
        "def filter_long_words(lst,n):\n",
        "  output=[]\n",
        "  for word in lst:\n",
        "    if(len(word)>n):\n",
        "      output.append(word)\n",
        "  return output\n",
        "\n",
        "word_list=['raja','kumar','arunkumar','abi','selvragavan','kishore']\n",
        "long_word=filter_long_words(word_list,5)\n",
        "long_word"
      ],
      "execution_count": 51,
      "outputs": [
        {
          "output_type": "execute_result",
          "data": {
            "text/plain": [
              "['arunkumar', 'selvragavan', 'kishore']"
            ]
          },
          "metadata": {
            "tags": []
          },
          "execution_count": 51
        }
      ]
    },
    {
      "cell_type": "markdown",
      "metadata": {
        "id": "oykllkjTx9kp",
        "colab_type": "text"
      },
      "source": [
        "2.1\n",
        "\n",
        "Write a Python program using function concept that maps list of words into a list of integers representing the lengths of the corresponding words .\n",
        "\n",
        "Hint: If a list [ ab,cde,erty] is passed on to the python function output should come as [2,3,4]\n",
        "\n",
        "Here 2,3 and 4 are the lengths of the words in the list."
      ]
    },
    {
      "cell_type": "code",
      "metadata": {
        "id": "2oM47gYNyD57",
        "colab_type": "code",
        "colab": {
          "base_uri": "https://localhost:8080/",
          "height": 34
        },
        "outputId": "9d4c9694-23d7-4b3d-ee3d-d999eb5605c2"
      },
      "source": [
        "def words_length(lst):\n",
        "  output=[]\n",
        "  for word in lst:\n",
        "    output.append(len(word))\n",
        "  return output\n",
        "\n",
        "word_list =  ['ab','cde','erty']\n",
        "length=words_length(word_list)\n",
        "length"
      ],
      "execution_count": 53,
      "outputs": [
        {
          "output_type": "execute_result",
          "data": {
            "text/plain": [
              "[2, 3, 4]"
            ]
          },
          "metadata": {
            "tags": []
          },
          "execution_count": 53
        }
      ]
    }
  ]
}